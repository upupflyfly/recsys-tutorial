{
 "cells": [
  {
   "cell_type": "markdown",
   "metadata": {},
   "source": [
    "# 简单线性回归教程（二）"
   ]
  },
  {
   "cell_type": "markdown",
   "metadata": {},
   "source": [
    "### —— 用梯度下降法求解线性回归"
   ]
  },
  {
   "cell_type": "code",
   "execution_count": 1,
   "metadata": {},
   "outputs": [],
   "source": [
    "from numpy import *\n",
    "import matplotlib.pyplot as plt"
   ]
  },
  {
   "cell_type": "markdown",
   "metadata": {},
   "source": [
    "#### 1. 导入数据"
   ]
  },
  {
   "cell_type": "code",
   "execution_count": 2,
   "metadata": {},
   "outputs": [
    {
     "data": {
      "image/png": "[encoded data removed]",
      "text/plain": [
       "<Figure size 432x288 with 1 Axes>"
      ]
     },
     "metadata": {
      "needs_background": "light"
     },
     "output_type": "display_data"
    }
   ],
   "source": [
    "points = genfromtxt('data.csv', delimiter=',')\n",
    "N = len(points)\n",
    "\n",
    "# 提取 x，y\n",
    "x = array(points[:,0])\n",
    "y = array(points[:,1])\n",
    "\n",
    "# 用plt做出散点图\n",
    "plt.scatter(x,y)\n",
    "plt.show()"
   ]
  },
  {
   "cell_type": "markdown",
   "metadata": {},
   "source": [
    "### 2. 定义损失函数"
   ]
  },
  {
   "cell_type": "code",
   "execution_count": 3,
   "metadata": {},
   "outputs": [],
   "source": [
    "# 定义线性模型 y = mx + b\n",
    "\n",
    "def compute_cost(points, b, m):\n",
    "    total_cost = 0\n",
    "    \n",
    "    N = len(points)\n",
    "    \n",
    "    # 计算所有误差平方的和 sum(y-mx-b)^2\n",
    "    for i in range(N):\n",
    "        x = points[i, 0]\n",
    "        y = points[i, 1]\n",
    "        \n",
    "        total_cost += (y - m * x - b) ** 2\n",
    "    \n",
    "    return total_cost / float(N)"
   ]
  },
  {
   "cell_type": "markdown",
   "metadata": {},
   "source": [
    "### 3. 定义模型的超参数"
   ]
  },
  {
   "cell_type": "code",
   "execution_count": 28,
   "metadata": {},
   "outputs": [],
   "source": [
    "# 包括：步长（学习速率），初始点，迭代次数\n",
    "learning_rate = 0.0002\n",
    "# learning_rate = 10\n",
    "initial_b = 0\n",
    "initial_m = 0\n",
    "num_iteration = 10"
   ]
  },
  {
   "cell_type": "markdown",
   "metadata": {},
   "source": [
    "### 4. 定义梯度下降算法函数"
   ]
  },
  {
   "cell_type": "code",
   "execution_count": 29,
   "metadata": {},
   "outputs": [],
   "source": [
    "def gradient_descent(points, initial_b, initial_m, learning_rate, num_iteration):\n",
    "    b = initial_b\n",
    "    m = initial_m\n",
    "    \n",
    "    # 用一个list记录所有的损失函数值\n",
    "    cost_list = []\n",
    "    \n",
    "    for i in range(num_iteration):\n",
    "        cost_list.append(compute_cost(points, b, m))\n",
    "        b, m = step_grad_desc(b, m, array(points), learning_rate)\n",
    "    \n",
    "    return [b, m, cost_list]\n",
    "\n",
    "def step_grad_desc(current_b, current_m, points, learning_rate):\n",
    "    m_grad = 0\n",
    "    b_grad = 0\n",
    "    \n",
    "    N = len(points)\n",
    "    \n",
    "    for i in range(N):\n",
    "        x = points[i, 0]\n",
    "        y = points[i, 1]\n",
    "        m_grad += (current_m * x + current_b - y) * x\n",
    "        b_grad += current_m * x + current_b - y\n",
    "    \n",
    "    m_update = current_m - learning_rate * m_grad * (2/float(N))\n",
    "    b_update = current_b - learning_rate * b_grad * (2/float(N))\n",
    "    \n",
    "    return b_update, m_update"
   ]
  },
  {
   "cell_type": "markdown",
   "metadata": {},
   "source": [
    "### 5. 测试：运行梯度下降函数来计算最优m和b"
   ]
  },
  {
   "cell_type": "code",
   "execution_count": 30,
   "metadata": {},
   "outputs": [
    {
     "name": "stdout",
     "output_type": "stream",
     "text": [
      "final m:  1.478897166581077\n",
      "final b:  0.030269551391295803\n"
     ]
    }
   ],
   "source": [
    "b, m , cost_list = gradient_descent(points, initial_b, initial_m, learning_rate, num_iteration)\n",
    "\n",
    "print(\"final m: \", m)\n",
    "print(\"final b: \", b)"
   ]
  },
  {
   "cell_type": "code",
   "execution_count": 31,
   "metadata": {},
   "outputs": [
    {
     "name": "stdout",
     "output_type": "stream",
     "text": [
      "final cost:  112.6499442565928\n"
     ]
    }
   ],
   "source": [
    "print(\"final cost: \", compute_cost(points,b,m))"
   ]
  },
  {
   "cell_type": "markdown",
   "metadata": {},
   "source": [
    "### 6. 画出损失函数随着迭代下降的过程"
   ]
  },
  {
   "cell_type": "code",
   "execution_count": 32,
   "metadata": {},
   "outputs": [
    {
     "data": {
      "image/png": "[encoded data removed]",
      "text/plain": [
       "<Figure size 432x288 with 1 Axes>"
      ]
     },
     "metadata": {
      "needs_background": "light"
     },
     "output_type": "display_data"
    }
   ],
   "source": [
    "plt.plot(cost_list)\n",
    "plt.show()"
   ]
  },
  {
   "cell_type": "markdown",
   "metadata": {},
   "source": [
    "迭代5次之后，就达到了极小值"
   ]
  },
  {
   "cell_type": "markdown",
   "metadata": {},
   "source": [
    "### 7. 画出拟合曲线"
   ]
  },
  {
   "cell_type": "code",
   "execution_count": 33,
   "metadata": {},
   "outputs": [
    {
     "data": {
      "image/png": "[encoded data removed]",
      "text/plain": [
       "<Figure size 432x288 with 1 Axes>"
      ]
     },
     "metadata": {
      "needs_background": "light"
     },
     "output_type": "display_data"
    }
   ],
   "source": [
    "plt.scatter(x, y)\n",
    "\n",
    "# 针对每一个x，求出预测值\n",
    "y_pred = m * x + b\n",
    "\n",
    "plt.plot(x, y_pred, c='r')\n",
    "\n",
    "plt.show()"
   ]
  },
  {
   "cell_type": "code",
   "execution_count": null,
   "metadata": {},
   "outputs": [],
   "source": []
  }
 ],
 "metadata": {
  "kernelspec": {
   "display_name": "Python 3",
   "language": "python",
   "name": "python3"
  },
  "language_info": {
   "codemirror_mode": {
    "name": "ipython",
    "version": 3
   },
   "file_extension": ".py",
   "mimetype": "text/x-python",
   "name": "python",
   "nbconvert_exporter": "python",
   "pygments_lexer": "ipython3",
   "version": "3.7.2"
  }
 },
 "nbformat": 4,
 "nbformat_minor": 2
}
